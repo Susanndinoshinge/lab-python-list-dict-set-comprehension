{
 "cells": [
  {
   "cell_type": "markdown",
   "id": "25d7736c-ba17-4aff-b6bb-66eba20fbf4e",
   "metadata": {},
   "source": [
    "# Lab | List, Dict and Set Comprehension"
   ]
  },
  {
   "cell_type": "markdown",
   "id": "7dd3cbde-675a-4b81-92c3-f728846dbe06",
   "metadata": {},
   "source": [
    "## Exercise: Managing Customer Orders Optimized with Comprehension"
   ]
  },
  {
   "cell_type": "markdown",
   "id": "5d500160-2fb7-4777-b5e4-09d45ebaf328",
   "metadata": {},
   "source": [
    "In the previous exercise, you developed a program to manage customer orders and inventory. Now, let's take it a step further and incorporate comprehension into your code.\n",
    "\n",
    "Follow the steps below to complete the exercise:\n",
    "\n",
    "1. Review your code from the previous exercise and identify areas where you can apply comprehension to simplify and streamline your code. \n",
    "\n",
    "    - *Hint: Apply it to initialize inventory, updating the inventory and printing the updated inventory.*\n",
    "    \n",
    "    - For example, in initializing the inventory, we could have:\n",
    "    \n",
    "        ```python\n",
    "        def initialize_inventory(products):\n",
    "            inventory = {product: int(input(f\"Enter the quantity of {product}s available: \")) for product in products}\n",
    "            return inventory\n",
    "\n",
    "        ```\n",
    "<br>\n",
    "    \n",
    "    \n",
    "2. Modify the function get_customer_orders so it prompts the user to enter the number of customer orders and gathers the product names using a loop and user input. Use comprehension.\n",
    "\n",
    "3. Add a new function to calculate the total price of the customer order. For each product in customer_orders, prompt the user to enter the price of that product. Use comprehension to calculate the total price. Note: assume that the user can only have 1 unit of each product.\n",
    "\n",
    "4. Modify the update_inventory function to remove the product from the inventory if its quantity becomes zero after fulfilling the customer orders. Use comprehension to filter out the products with a quantity of zero from the inventory.\n",
    "\n",
    "5. Print the total price of the customer order.\n",
    "\n",
    "Your code should produce output similar to the following:\n",
    "\n",
    "```python\n",
    "Enter the quantity of t-shirts available:  5\n",
    "Enter the quantity of mugs available:  4\n",
    "Enter the quantity of hats available:  3\n",
    "Enter the quantity of books available:  2\n",
    "Enter the quantity of keychains available:  1\n",
    "Enter the number of customer orders:  2\n",
    "Enter the name of a product that a customer wants to order:  hat\n",
    "Enter the name of a product that a customer wants to order:  keychain\n",
    "\n",
    "Order Statistics:\n",
    "Total Products Ordered: 2\n",
    "Percentage of Unique Products Ordered: 40.0\n",
    "\n",
    "Updated Inventory:\n",
    "t-shirt: 5\n",
    "mug: 4\n",
    "hat: 2\n",
    "book: 2\n",
    "Enter the price of keychain:  5\n",
    "Enter the price of hat:  10\n",
    "Total Price: 15.0\n",
    "\n",
    "```\n"
   ]
  },
  {
   "cell_type": "code",
   "execution_count": 7,
   "id": "cec69275",
   "metadata": {},
   "outputs": [],
   "source": [
    "def initialize_inventory(products):\n",
    "    inventory = {product: int(input(f\"Enter the quantity of {product}s available: \")) for product in products}\n",
    "    products_available = [product for product in products]\n",
    "    print(\"\\nEnter the quantity of products available:\")\n",
    "    for product in products_available:\n",
    "        quantity = inventory[product]\n",
    "        print(f\"{product}: {quantity}\")\n",
    "    return inventory\n"
   ]
  },
  {
   "cell_type": "code",
   "execution_count": 8,
   "id": "87d655af",
   "metadata": {},
   "outputs": [],
   "source": [
    "\n",
    "def get_customer_orders(products):\n",
    "    number_of_orders = int(input(\"Enter the number of customer orders: \"))\n",
    "    print(\"\\nEnter the number of customer orders:\", number_of_orders)\n",
    "    customer_orders = [input(f\"Enter the name of a product that a customer wants to order: \") for _ in range(number_of_orders)]\n",
    "    print(\"\\nEnter the the names of products that a customer wants to order:\", customer_orders)\n",
    "    return customer_orders\n"
   ]
  },
  {
   "cell_type": "code",
   "execution_count": 9,
   "id": "8f1a7034",
   "metadata": {},
   "outputs": [],
   "source": [
    "\n",
    "def calculate_total_price(customer_orders, inventory):\n",
    "    total_price = 0\n",
    "    product_prices = {}\n",
    "\n",
    "    for product in customer_orders:\n",
    "        price = float(input(f\"Enter the price of {product}: \"))\n",
    "        total_price += price\n",
    "        product_prices[product] = price\n",
    "    \n",
    "    return total_price, product_prices\n"
   ]
  },
  {
   "cell_type": "code",
   "execution_count": 10,
   "id": "d0b5e93b",
   "metadata": {},
   "outputs": [],
   "source": [
    "\n",
    "def update_inventory(customer_orders, inventory):\n",
    "    for product in customer_orders:\n",
    "        inventory[product] -= 1\n",
    "    # Use comprehension to filter out products with quantity greater than zero\n",
    "    inventory = {product: quantity for product, quantity in inventory.items() if quantity > 0}\n",
    "    return inventory\n"
   ]
  },
  {
   "cell_type": "code",
   "execution_count": 11,
   "id": "85d98962",
   "metadata": {},
   "outputs": [
    {
     "name": "stdout",
     "output_type": "stream",
     "text": [
      "\n",
      "Enter the quantity of products available:\n",
      "t-shirt: 4\n",
      "mug: 5\n",
      "book: 3\n",
      "keychain: 8\n",
      "\n",
      "Enter the number of customer orders: 3\n",
      "\n",
      "Enter the the names of products that a customer wants to order: ['t-shirt', 'mug', 'book']\n",
      "\n",
      "Order Statistics:\n",
      "Total Products Ordered: 3\n",
      "Percentage of Unique Products Ordered: 75.0%\n",
      "\n",
      "Updated Inventory:\n",
      "t-shirt: 3\n",
      "mug: 4\n",
      "book: 2\n",
      "keychain: 8\n",
      "\n",
      "Prices of Products Ordered:\n",
      "t-shirt: €35.00\n",
      "mug: €10.50\n",
      "book: €24.99\n",
      "Total Price: € 70.49\n"
     ]
    }
   ],
   "source": [
    "\n",
    "def main():\n",
    "    products = [\"t-shirt\", \"mug\", \"book\", \"keychain\"]\n",
    "    inventory = initialize_inventory(products)\n",
    "    \n",
    "    customer_orders = get_customer_orders(products)\n",
    "    \n",
    "    total_price, product_prices = calculate_total_price(customer_orders, inventory)\n",
    "    \n",
    "    updated_inventory = update_inventory(customer_orders, inventory)\n",
    "    \n",
    "\n",
    "    print(\"\\nOrder Statistics:\")\n",
    "    print(f\"Total Products Ordered: {len(customer_orders)}\")\n",
    "    # Calculate the percentage of unique products ordered\n",
    "    unique_products_percentage = (len(set(customer_orders)) / len(products)) * 100\n",
    "    print(f\"Percentage of Unique Products Ordered: {unique_products_percentage}%\")\n",
    "    \n",
    "    print(\"\\nUpdated Inventory:\")\n",
    "    for product, quantity in inventory.items():\n",
    "        print(f\"{product}: {quantity}\")\n",
    "\n",
    "    print(\"\\nPrices of Products Ordered:\")\n",
    "    for product, price in product_prices.items():\n",
    "        print(f\"{product}: €{price:.2f}\")\n",
    "    \n",
    "    \n",
    "    print(f\"Total Price: €{total_price: .2f}\")\n",
    "\n",
    "if __name__ == \"__main__\":\n",
    "    main()\n"
   ]
  }
 ],
 "metadata": {
  "kernelspec": {
   "display_name": "Python 3 (ipykernel)",
   "language": "python",
   "name": "python3"
  },
  "language_info": {
   "codemirror_mode": {
    "name": "ipython",
    "version": 3
   },
   "file_extension": ".py",
   "mimetype": "text/x-python",
   "name": "python",
   "nbconvert_exporter": "python",
   "pygments_lexer": "ipython3",
   "version": "3.11.2"
  }
 },
 "nbformat": 4,
 "nbformat_minor": 5
}
